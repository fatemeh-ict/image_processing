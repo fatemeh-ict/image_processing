{
 "cells": [
  {
   "cell_type": "code",
   "execution_count": 23,
   "id": "458340b2-58fb-4b30-b705-fd0db80c6e03",
   "metadata": {},
   "outputs": [
    {
     "name": "stdout",
     "output_type": "stream",
     "text": [
      "Requirement already satisfied: cvzone in c:\\users\\user\\appdata\\roaming\\python\\python311\\site-packages (1.6.1)Note: you may need to restart the kernel to use updated packages.\n",
      "\n",
      "Requirement already satisfied: opencv-python in c:\\users\\user\\anaconda3\\lib\\site-packages (from cvzone) (4.9.0.80)\n",
      "Requirement already satisfied: numpy in c:\\users\\user\\anaconda3\\lib\\site-packages (from cvzone) (1.26.4)\n"
     ]
    }
   ],
   "source": [
    "pip install cvzone"
   ]
  },
  {
   "cell_type": "code",
   "execution_count": 32,
   "id": "e23dbd7c-aacc-469d-8834-f4e4b4ea4c36",
   "metadata": {},
   "outputs": [],
   "source": [
    "import numpy as np\n",
    "import cv2 as cv\n",
    "from cvzone.HandTrackingModule import HandDetector"
   ]
  },
  {
   "cell_type": "code",
   "execution_count": 39,
   "id": "0d2d2ec9-1604-4b06-bee5-b314e97f827c",
   "metadata": {},
   "outputs": [
    {
     "name": "stdout",
     "output_type": "stream",
     "text": [
      "56.515484603779164\n",
      "46.09772228646444\n",
      "50.44799302251776\n",
      "46.32493928760188\n",
      "50.96076922496363\n",
      "49.72926703662542\n",
      "49.24428900898052\n",
      "47.80167361086848\n",
      "49.03060268852505\n",
      "49.47726750741192\n",
      "52.392747589718944\n",
      "51.92301994298868\n",
      "51.66236541235796\n",
      "46.57252408878007\n",
      "49.040799340956916\n",
      "50.44799302251776\n",
      "51.66236541235796\n",
      "50.44799302251776\n",
      "51.92301994298868\n",
      "53.16013544000805\n",
      "49.47726750741192\n",
      "50.695167422546305\n",
      "46.52956049652737\n",
      "49.47726750741192\n",
      "51.24451190127583\n",
      "48.507731342539614\n",
      "52.172789842982326\n",
      "47.29693436154187\n",
      "48.76474136094644\n",
      "49.040799340956916\n",
      "51.97114584074513\n",
      "51.19570294468082\n",
      "50.00999900019995\n",
      "54.3415126767741\n",
      "48.507731342539614\n",
      "47.80167361086848\n",
      "53.85164807134504\n",
      "48.05205510693585\n",
      "44.384682042344295\n",
      "50.0\n",
      "51.92301994298868\n",
      "50.695167422546305\n",
      "50.28916384272063\n",
      "47.80167361086848\n",
      "50.28916384272063\n",
      "49.47726750741192\n",
      "52.392747589718944\n",
      "50.44799302251776\n",
      "42.42640687119285\n",
      "42.01190307520001\n",
      "38.28837943815329\n",
      "25.942243542145693\n",
      "59.00847396772772\n",
      "104.12012293500234\n",
      "119.86659251017358\n",
      "119.85407794480753\n",
      "120.6731121667126\n",
      "117.41379816699569\n",
      "121.24768039018313\n",
      "125.67020331009256\n",
      "123.14625451064275\n",
      "111.50336317797773\n",
      "31.953090617340916\n",
      "22.847319317591726\n",
      "33.83784863137726\n",
      "37.53664875824692\n",
      "34.88552708502482\n",
      "31.304951684997057\n",
      "34.539832078341085\n",
      "34.48187929913333\n",
      "29.154759474226502\n"
     ]
    }
   ],
   "source": [
    "cap = cv.VideoCapture(0)\n",
    "detector = HandDetector(detectionCon = 0.5, maxHands=2)\n",
    "\n",
    "while(True):\n",
    "    rec, frame = cap.read()\n",
    "    hand, frame = detector.findHands(frame)\n",
    "    if hand:\n",
    "        hand1 = hand[0]\n",
    "        lmlist1 = hand1[\"lmList\"]\n",
    "\n",
    "        length, info, frame = detector.findDistance(lmlist1[4][:-1], lmlist1[8][:-1], frame)\n",
    "        print(length)\n",
    "        \n",
    "    cv.imshow('frame', frame)\n",
    "    keyexit = cv.waitKey(5) & 0xFF\n",
    "    if keyexit == 27:\n",
    "        break\n",
    "\n",
    "cv.destroyAllWindows()\n",
    "cap.release()"
   ]
  },
  {
   "cell_type": "code",
   "execution_count": null,
   "id": "711908ac-391c-4f64-8851-5e745bf7a4bb",
   "metadata": {},
   "outputs": [],
   "source": []
  },
  {
   "cell_type": "code",
   "execution_count": null,
   "id": "0e478329-539b-455e-8fb9-f657ccc5dce6",
   "metadata": {},
   "outputs": [],
   "source": []
  }
 ],
 "metadata": {
  "kernelspec": {
   "display_name": "Python 3 (ipykernel)",
   "language": "python",
   "name": "python3"
  },
  "language_info": {
   "codemirror_mode": {
    "name": "ipython",
    "version": 3
   },
   "file_extension": ".py",
   "mimetype": "text/x-python",
   "name": "python",
   "nbconvert_exporter": "python",
   "pygments_lexer": "ipython3",
   "version": "3.11.7"
  }
 },
 "nbformat": 4,
 "nbformat_minor": 5
}
