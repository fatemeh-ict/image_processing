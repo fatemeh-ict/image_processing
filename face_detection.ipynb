{
 "cells": [
  {
   "cell_type": "code",
   "execution_count": 2,
   "id": "458340b2-58fb-4b30-b705-fd0db80c6e03",
   "metadata": {},
   "outputs": [],
   "source": [
    "import numpy as np"
   ]
  },
  {
   "cell_type": "code",
   "execution_count": 3,
   "id": "e23dbd7c-aacc-469d-8834-f4e4b4ea4c36",
   "metadata": {},
   "outputs": [],
   "source": [
    "import cv2 as cv"
   ]
  },
  {
   "cell_type": "code",
   "execution_count": 22,
   "id": "0d2d2ec9-1604-4b06-bee5-b314e97f827c",
   "metadata": {},
   "outputs": [],
   "source": [
    "cap = cv.VideoCapture(0)\n",
    "face_cascade=cv.CascadeClassifier('E:/pictures/haarcascade_frontalface_default.xml')\n",
    "eye_cascade=cv.CascadeClassifier('E:/pictures/haarcascade_eye.xml')\n",
    "smile_cascade = cv.CascadeClassifier('E:/pictures/haarcascade_smile.xml')\n",
    "while(True):\n",
    "    rec, frame = cap.read()\n",
    "    frame_gray=cv.cvtColor(frame,cv.COLOR_BGR2GRAY)\n",
    "\n",
    "    faces=face_cascade.detectMultiScale(frame_gray,1.3,5)\n",
    "    for (x,y,w,h) in faces:\n",
    "        cv.rectangle(frame,(x,y),(x+w,y+h),(255,255,0),2)\n",
    "#for detecting eyes, we should search them in face region\n",
    "    frame_gray_roi=frame_gray[y:y+h,x:x+w]\n",
    "    frame_roi=frame[y:y+h,x:x+w]\n",
    "\n",
    "    eyes=eye_cascade.detectMultiScale(frame_gray_roi)\n",
    "\n",
    "    for (ex,ey,ew,eh) in eyes:\n",
    "        cv.rectangle(frame_roi,(ex,ey),(ex+ew,ey+eh),(255,0,255),2)\n",
    "\n",
    "    smiles=smile_cascade.detectMultiScale(frame_gray_roi,1.8,20)\n",
    "    for (sx,sy,sw,sh) in smiles:\n",
    "        cv.rectangle(frame_roi,(sx,sy),(sx+sw,sy+sh),(0,0,255),2)\n",
    "        \n",
    "    cv.imshow('frame', frame)\n",
    "    \n",
    "\n",
    "\n",
    "    \n",
    "    keyexit = cv.waitKey(5) & 0xFF\n",
    "    if keyexit == 27:\n",
    "        break\n",
    "\n",
    "cv.destroyAllWindows()\n",
    "cap.release()"
   ]
  },
  {
   "cell_type": "code",
   "execution_count": null,
   "id": "711908ac-391c-4f64-8851-5e745bf7a4bb",
   "metadata": {},
   "outputs": [],
   "source": []
  },
  {
   "cell_type": "code",
   "execution_count": null,
   "id": "0e478329-539b-455e-8fb9-f657ccc5dce6",
   "metadata": {},
   "outputs": [],
   "source": []
  }
 ],
 "metadata": {
  "kernelspec": {
   "display_name": "Python 3 (ipykernel)",
   "language": "python",
   "name": "python3"
  },
  "language_info": {
   "codemirror_mode": {
    "name": "ipython",
    "version": 3
   },
   "file_extension": ".py",
   "mimetype": "text/x-python",
   "name": "python",
   "nbconvert_exporter": "python",
   "pygments_lexer": "ipython3",
   "version": "3.11.7"
  }
 },
 "nbformat": 4,
 "nbformat_minor": 5
}
