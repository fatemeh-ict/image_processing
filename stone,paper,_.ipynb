{
  "nbformat": 4,
  "nbformat_minor": 0,
  "metadata": {
    "colab": {
      "provenance": [],
      "authorship_tag": "ABX9TyMu4F1VWtG5gAqnFqBAg3HG",
      "include_colab_link": true
    },
    "kernelspec": {
      "name": "python3",
      "display_name": "Python 3"
    },
    "language_info": {
      "name": "python"
    }
  },
  "cells": [
    {
      "cell_type": "markdown",
      "metadata": {
        "id": "view-in-github",
        "colab_type": "text"
      },
      "source": [
        "<a href=\"https://colab.research.google.com/github/fatemeh-ict/image_processing/blob/main/stone%2Cpaper%2C_.ipynb\" target=\"_parent\"><img src=\"https://colab.research.google.com/assets/colab-badge.svg\" alt=\"Open In Colab\"/></a>"
      ]
    },
    {
      "cell_type": "code",
      "source": [
        "import random"
      ],
      "metadata": {
        "id": "g38kOuXVOjdl"
      },
      "execution_count": 1,
      "outputs": []
    },
    {
      "cell_type": "code",
      "execution_count": 15,
      "metadata": {
        "colab": {
          "base_uri": "https://localhost:8080/"
        },
        "id": "r0GGsKdlNNs8",
        "outputId": "7d487700-c92d-4f49-e12f-55178ae63709"
      },
      "outputs": [
        {
          "output_type": "stream",
          "name": "stdout",
          "text": [
            "please enter your option: \n",
            "t\n",
            "please choose from options\n",
            "please enter your option: \n",
            "s\n",
            "pc_chioce is: q\n",
            "pc_score=0, user_score:1 => play again\n",
            "please enter your option: \n",
            "q\n",
            "pc_chioce is: q\n",
            "equal, try again\n",
            "pc_score=0, user_score:1 => play again\n",
            "please enter your option: \n",
            "q\n",
            "pc_chioce is: p\n",
            "pc_score=0, user_score:2 => play again\n",
            "please enter your option: \n",
            "q\n",
            "pc_chioce is: p\n",
            "pc_score=0, user_score:3 => play again\n",
            "user is win\n"
          ]
        }
      ],
      "source": [
        "user_score=0\n",
        "pc_score=0\n",
        "run=True\n",
        "\n",
        "options=['s','p','q']\n",
        "while run:\n",
        "\n",
        "  user_choice=input(\"please enter your option: \\n\")\n",
        "  if user_choice in options:\n",
        "\n",
        "    pc_choice=random.choice(options)\n",
        "    print(f\"pc_chioce is: {pc_choice}\")\n",
        "    if user_choice==pc_choice:\n",
        "      print(\"equal, try again\")\n",
        "    elif user_choice=='s':\n",
        "      if pc_choice=='p':\n",
        "        pc_score+=1\n",
        "      else:\n",
        "        user_score+=1\n",
        "    elif user_choice==\"p\":\n",
        "      if pc_choice==\"q\":\n",
        "        pc_score+=1\n",
        "      else:\n",
        "        user_score+=1\n",
        "    elif user_choice==\"q\":\n",
        "      if pc_choice==\"s\":\n",
        "        pc_score+=1\n",
        "      else:\n",
        "        user_score+=1\n",
        "    print(f'pc_score={pc_score}, user_score:{user_score} => play again')\n",
        "\n",
        "    if user_score==3 or pc_score==3:\n",
        "      if user_score==3:\n",
        "        print(\"user is win\")\n",
        "      else:\n",
        "        print(\"pc is win\")\n",
        "      break\n",
        "  else :\n",
        "      print(\"please choose from options\")\n",
        "\n",
        "\n",
        "\n"
      ]
    },
    {
      "cell_type": "code",
      "source": [],
      "metadata": {
        "id": "xFPgxB7AO3u8"
      },
      "execution_count": 6,
      "outputs": []
    }
  ]
}