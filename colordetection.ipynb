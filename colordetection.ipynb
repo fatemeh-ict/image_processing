{
 "cells": [
  {
   "cell_type": "code",
   "execution_count": 2,
   "id": "458340b2-58fb-4b30-b705-fd0db80c6e03",
   "metadata": {},
   "outputs": [],
   "source": [
    "import numpy as np"
   ]
  },
  {
   "cell_type": "code",
   "execution_count": 3,
   "id": "e23dbd7c-aacc-469d-8834-f4e4b4ea4c36",
   "metadata": {},
   "outputs": [],
   "source": [
    "import cv2 as cv"
   ]
  },
  {
   "cell_type": "code",
   "execution_count": 14,
   "id": "0d2d2ec9-1604-4b06-bee5-b314e97f827c",
   "metadata": {},
   "outputs": [],
   "source": [
    "cap = cv.VideoCapture(0)\n",
    "\n",
    "while(True):\n",
    "    rec, frame = cap.read()\n",
    "    frame_hsv=cv.cvtColor(frame,cv.COLOR_BGR2HSV)\n",
    "\n",
    "    # lower_red=np.array([0,50,50])\n",
    "    # upper_red=np.array([6,255,255])\n",
    "\n",
    "\n",
    "    lower_blue=np.array([100,50,50])\n",
    "    upper_blue=np.array([116,255,255])\n",
    "\n",
    "    \n",
    "    mask_blue=cv.inRange(frame_hsv,lower_blue,upper_blue)\n",
    "\n",
    "    frame_mask=cv.bitwise_and(frame,frame,mask=mask_blue)\n",
    "    \n",
    "\n",
    "    cv.imshow('frame', frame)\n",
    "    cv.imshow('mask_blue', mask_blue)\n",
    "    cv.imshow('frame_mask', frame_mask)\n",
    "\n",
    "\n",
    "    \n",
    "    keyexit = cv.waitKey(5) & 0xFF\n",
    "    if keyexit == 27:\n",
    "        break\n",
    "\n",
    "cv.destroyAllWindows()\n",
    "cap.release()"
   ]
  },
  {
   "cell_type": "code",
   "execution_count": null,
   "id": "711908ac-391c-4f64-8851-5e745bf7a4bb",
   "metadata": {},
   "outputs": [],
   "source": []
  },
  {
   "cell_type": "code",
   "execution_count": null,
   "id": "0e478329-539b-455e-8fb9-f657ccc5dce6",
   "metadata": {},
   "outputs": [],
   "source": []
  }
 ],
 "metadata": {
  "kernelspec": {
   "display_name": "Python 3 (ipykernel)",
   "language": "python",
   "name": "python3"
  },
  "language_info": {
   "codemirror_mode": {
    "name": "ipython",
    "version": 3
   },
   "file_extension": ".py",
   "mimetype": "text/x-python",
   "name": "python",
   "nbconvert_exporter": "python",
   "pygments_lexer": "ipython3",
   "version": "3.11.7"
  }
 },
 "nbformat": 4,
 "nbformat_minor": 5
}
