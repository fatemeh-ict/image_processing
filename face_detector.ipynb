{
 "cells": [
  {
   "cell_type": "code",
   "execution_count": 47,
   "id": "e23dbd7c-aacc-469d-8834-f4e4b4ea4c36",
   "metadata": {},
   "outputs": [],
   "source": [
    "import numpy as np\n",
    "import cv2 as cv\n",
    "from cvzone.FaceDetectionModule import FaceDetector\n",
    "from cvzone.FaceMeshModule import FaceMeshDetector"
   ]
  },
  {
   "cell_type": "code",
   "execution_count": 50,
   "id": "0d2d2ec9-1604-4b06-bee5-b314e97f827c",
   "metadata": {},
   "outputs": [],
   "source": [
    "cap = cv.VideoCapture(0)\n",
    "detector = FaceDetector()\n",
    "meshdetector=FaceMeshDetector(maxFaces=1)\n",
    "while(True):\n",
    "    rec, frame = cap.read()\n",
    "    frame, bbox = detector.findFaces(frame)\n",
    "    frame,face=meshdetector.findFaceMesh(frame)\n",
    "    \n",
    "    if bbox:\n",
    "        center=bbox[0]['center']\n",
    "        cv.circle(frame,center,5,(255,0,255),cv.FILLED)\n",
    "        \n",
    "        \n",
    "    cv.imshow('frame', frame)\n",
    "    keyexit = cv.waitKey(5) & 0xFF\n",
    "    if keyexit == 27:\n",
    "        break\n",
    "\n",
    "cv.destroyAllWindows()\n",
    "cap.release()"
   ]
  },
  {
   "cell_type": "code",
   "execution_count": null,
   "id": "711908ac-391c-4f64-8851-5e745bf7a4bb",
   "metadata": {},
   "outputs": [],
   "source": []
  },
  {
   "cell_type": "code",
   "execution_count": null,
   "id": "0e478329-539b-455e-8fb9-f657ccc5dce6",
   "metadata": {},
   "outputs": [],
   "source": []
  }
 ],
 "metadata": {
  "kernelspec": {
   "display_name": "Python 3 (ipykernel)",
   "language": "python",
   "name": "python3"
  },
  "language_info": {
   "codemirror_mode": {
    "name": "ipython",
    "version": 3
   },
   "file_extension": ".py",
   "mimetype": "text/x-python",
   "name": "python",
   "nbconvert_exporter": "python",
   "pygments_lexer": "ipython3",
   "version": "3.11.7"
  }
 },
 "nbformat": 4,
 "nbformat_minor": 5
}
