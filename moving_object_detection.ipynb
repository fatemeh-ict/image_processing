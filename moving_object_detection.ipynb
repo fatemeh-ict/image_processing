{
 "cells": [
  {
   "cell_type": "code",
   "execution_count": 20,
   "id": "b55141f5-250a-401f-ba8f-532d51f1d5d1",
   "metadata": {},
   "outputs": [],
   "source": [
    "import cv2 as cv\n",
    "import numpy as np"
   ]
  },
  {
   "cell_type": "code",
   "execution_count": 65,
   "id": "ffea4d4d-ee08-4cfe-aa10-cfb1651f11cb",
   "metadata": {},
   "outputs": [
    {
     "name": "stdout",
     "output_type": "stream",
     "text": [
      "23.976023976023978\n"
     ]
    }
   ],
   "source": [
    "def rescale_frame(frame,percent=20):\n",
    "    width=int(frame.shape[1]*percent/100)\n",
    "    height=int(frame.shape[0]*percent/100)\n",
    "    dim=(width,height)\n",
    "    return cv.resize(frame,dim,interpolation=cv.INTER_AREA)\n",
    "    \n",
    "cap=cv.VideoCapture('E:/pictures/street_camera.mp4')\n",
    "fps=cap.get(cv.CAP_PROP_FPS)\n",
    "print(fps)\n",
    "\n",
    "while (True):\n",
    "    rec,frame1=cap.read()\n",
    "    rec,frame2=cap.read()\n",
    "    \n",
    "    resized_frame1=rescale_frame(frame1)\n",
    "    resized_frame2=rescale_frame(frame2)\n",
    "\n",
    "    frame_diff=cv.absdiff(resized_frame1,resized_frame2)\n",
    "    frame_diff_gray=cv.cvtColor(frame_diff,cv.COLOR_BGR2GRAY)\n",
    "    blured_frame=cv.GaussianBlur(frame_diff_gray,(3,3),1)\n",
    "    _,mask=cv.threshold(blured_frame,10,255,cv.THRESH_BINARY)\n",
    "\n",
    "    contours,_=cv.findContours(mask,cv.RETR_TREE,cv.CHAIN_APPROX_SIMPLE)\n",
    "    for contour in contours:\n",
    "        if cv.contourArea(contour)>1000:\n",
    "            (x,y,w,h)=cv.boundingRect(contour)\n",
    "            cv.rectangle(resized_frame1,(x+w-100,y+h-50),(x+w,y+h),(0,255,255),2)\n",
    "        \n",
    "    cv.imshow('frame', resized_frame1)\n",
    "    cv.imshow('frame_diff', frame_diff)\n",
    "    cv.imshow('mask', mask)\n",
    "   \n",
    "    keyexit = cv.waitKey(5) & 0xFF\n",
    "    if keyexit == 27:\n",
    "        break\n",
    "\n",
    "cv.destroyAllWindows()\n",
    "cap.release()"
   ]
  },
  {
   "cell_type": "code",
   "execution_count": 7,
   "id": "fb8b67a9-009c-4a46-ba95-09ea9bafa4e1",
   "metadata": {},
   "outputs": [],
   "source": []
  },
  {
   "cell_type": "code",
   "execution_count": null,
   "id": "d4f1e04c-774f-4a4d-aca6-8aa2bfab5178",
   "metadata": {},
   "outputs": [],
   "source": []
  }
 ],
 "metadata": {
  "kernelspec": {
   "display_name": "Python 3 (ipykernel)",
   "language": "python",
   "name": "python3"
  },
  "language_info": {
   "codemirror_mode": {
    "name": "ipython",
    "version": 3
   },
   "file_extension": ".py",
   "mimetype": "text/x-python",
   "name": "python",
   "nbconvert_exporter": "python",
   "pygments_lexer": "ipython3",
   "version": "3.11.7"
  }
 },
 "nbformat": 4,
 "nbformat_minor": 5
}
