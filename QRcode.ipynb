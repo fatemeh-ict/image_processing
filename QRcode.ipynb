{
  "nbformat": 4,
  "nbformat_minor": 0,
  "metadata": {
    "colab": {
      "provenance": [],
      "authorship_tag": "ABX9TyNVzuBg7zgYrwE9CIMQVCnB",
      "include_colab_link": true
    },
    "kernelspec": {
      "name": "python3",
      "display_name": "Python 3"
    },
    "language_info": {
      "name": "python"
    }
  },
  "cells": [
    {
      "cell_type": "markdown",
      "metadata": {
        "id": "view-in-github",
        "colab_type": "text"
      },
      "source": [
        "<a href=\"https://colab.research.google.com/github/fatemeh-ict/image_processing/blob/main/QRcode.ipynb\" target=\"_parent\"><img src=\"https://colab.research.google.com/assets/colab-badge.svg\" alt=\"Open In Colab\"/></a>"
      ]
    },
    {
      "cell_type": "code",
      "execution_count": 1,
      "metadata": {
        "id": "4r4aZ7MwOC8i"
      },
      "outputs": [],
      "source": [
        "import numpy as np\n",
        "import cv2 as cv"
      ]
    },
    {
      "cell_type": "markdown",
      "source": [
        "Detect QRCode"
      ],
      "metadata": {
        "id": "DEM8SarSe0WY"
      }
    },
    {
      "cell_type": "code",
      "source": [
        "from google.colab.patches import cv2_imshow\n",
        "!curl -o logo.png https://colab.research.google.com/img/colab_favicon_256px.png\n",
        "import cv2\n",
        "qrcode_img = cv2.imread('/content/Graphic_Step3-lg.png')\n",
        "cv2_imshow(qrcode_img)"
      ],
      "metadata": {
        "colab": {
          "base_uri": "https://localhost:8080/",
          "height": 471
        },
        "id": "GGkVqg5vOX-E",
        "outputId": "710ab743-8642-4187-dbe2-694f037d281b"
      },
      "execution_count": 39,
      "outputs": [
        {
          "output_type": "stream",
          "name": "stdout",
          "text": [
            "  % Total    % Received % Xferd  Average Speed   Time    Time     Time  Current\n",
            "                                 Dload  Upload   Total   Spent    Left  Speed\n",
            "\r  0     0    0     0    0     0      0      0 --:--:-- --:--:-- --:--:--     0\r  0     0    0     0    0     0      0      0 --:--:-- --:--:-- --:--:--     0\r100  4534  100  4534    0     0  48749      0 --:--:-- --:--:-- --:--:-- 48752\n"
          ]
        },
        {
          "output_type": "display_data",
          "data": {
            "text/plain": [
              "<PIL.Image.Image image mode=RGB size=520x400>"
            ],
            "image/png": "[encoded data removed]"
          },
          "metadata": {}
        }
      ]
    },
    {
      "cell_type": "code",
      "source": [
        "detector=cv.QRCodeDetector()"
      ],
      "metadata": {
        "id": "Eygc25MoOu11"
      },
      "execution_count": 40,
      "outputs": []
    },
    {
      "cell_type": "code",
      "source": [
        "values,boxes,_=detector.detectAndDecode(qrcode_img)"
      ],
      "metadata": {
        "id": "2YuDi8CIPUMA"
      },
      "execution_count": 41,
      "outputs": []
    },
    {
      "cell_type": "code",
      "source": [
        "print(values)"
      ],
      "metadata": {
        "colab": {
          "base_uri": "https://localhost:8080/"
        },
        "id": "Pui_lInSPnrT",
        "outputId": "ce8a4fce-87aa-45c3-cbed-c8a68926a611"
      },
      "execution_count": 42,
      "outputs": [
        {
          "output_type": "stream",
          "name": "stdout",
          "text": [
            "https://www.eztexting.com/\n"
          ]
        }
      ]
    },
    {
      "cell_type": "code",
      "source": [
        "print(boxes)"
      ],
      "metadata": {
        "colab": {
          "base_uri": "https://localhost:8080/"
        },
        "id": "PFcj1cV2PqEt",
        "outputId": "e3fea508-55be-44aa-9f50-2a0e29cefb39"
      },
      "execution_count": 43,
      "outputs": [
        {
          "output_type": "stream",
          "name": "stdout",
          "text": [
            "[[[269. 150.]\n",
            "  [489. 150.]\n",
            "  [489. 370.]\n",
            "  [269. 370.]]]\n"
          ]
        }
      ]
    },
    {
      "cell_type": "code",
      "source": [
        "box = np.int0(boxes)"
      ],
      "metadata": {
        "colab": {
          "base_uri": "https://localhost:8080/"
        },
        "id": "avCJYncSSSqE",
        "outputId": "b8d16439-ad12-4421-bcf8-cdffb9b8d70b"
      },
      "execution_count": 44,
      "outputs": [
        {
          "output_type": "stream",
          "name": "stderr",
          "text": [
            "<ipython-input-44-d3929cd3da42>:1: DeprecationWarning: `np.int0` is a deprecated alias for `np.intp`.  (Deprecated NumPy 1.24)\n",
            "  box = np.int0(boxes)\n"
          ]
        }
      ]
    },
    {
      "cell_type": "code",
      "source": [
        "cv.rectangle(qrcode_img, tuple(box[0][0]), tuple(box[0][2]), (255,255,0), 2)"
      ],
      "metadata": {
        "colab": {
          "base_uri": "https://localhost:8080/",
          "height": 441
        },
        "id": "qky9dxd4Pu2I",
        "outputId": "4c4464a0-cd0f-4512-fb85-f5d5019cf1f1"
      },
      "execution_count": 45,
      "outputs": [
        {
          "output_type": "execute_result",
          "data": {
            "text/plain": [
              "array([[[ 76, 112,  71],\n",
              "        [ 76, 112,  71],\n",
              "        [ 76, 112,  71],\n",
              "        ...,\n",
              "        [ 76, 112,  71],\n",
              "        [ 76, 112,  71],\n",
              "        [ 76, 112,  71]],\n",
              "\n",
              "       [[ 76, 112,  71],\n",
              "        [ 76, 112,  71],\n",
              "        [ 76, 112,  71],\n",
              "        ...,\n",
              "        [ 76, 112,  71],\n",
              "        [ 76, 112,  71],\n",
              "        [ 76, 112,  71]],\n",
              "\n",
              "       [[ 76, 112,  71],\n",
              "        [ 76, 112,  71],\n",
              "        [ 76, 112,  71],\n",
              "        ...,\n",
              "        [ 76, 112,  71],\n",
              "        [ 76, 112,  71],\n",
              "        [ 76, 112,  71]],\n",
              "\n",
              "       ...,\n",
              "\n",
              "       [[ 76, 112,  71],\n",
              "        [ 76, 112,  71],\n",
              "        [ 76, 112,  71],\n",
              "        ...,\n",
              "        [ 76, 112,  71],\n",
              "        [ 76, 112,  71],\n",
              "        [ 76, 112,  71]],\n",
              "\n",
              "       [[ 76, 112,  71],\n",
              "        [ 76, 112,  71],\n",
              "        [ 76, 112,  71],\n",
              "        ...,\n",
              "        [ 76, 112,  71],\n",
              "        [ 76, 112,  71],\n",
              "        [ 76, 112,  71]],\n",
              "\n",
              "       [[ 76, 112,  71],\n",
              "        [ 76, 112,  71],\n",
              "        [ 76, 112,  71],\n",
              "        ...,\n",
              "        [ 76, 112,  71],\n",
              "        [ 76, 112,  71],\n",
              "        [ 76, 112,  71]]], dtype=uint8)"
            ],
            "text/html": [
              "<style>\n",
              "      .ndarray_repr .ndarray_raw_data {\n",
              "        display: none;\n",
              "      }\n",
              "      .ndarray_repr.show_array .ndarray_raw_data {\n",
              "        display: block;\n",
              "      }\n",
              "      .ndarray_repr.show_array .ndarray_image_preview {\n",
              "        display: none;\n",
              "      }\n",
              "      </style>\n",
              "      <div id=\"id-823a4b03-4143-41c0-a7aa-fbf956ab914d\" class=\"ndarray_repr\"><pre>ndarray (400, 520, 3) <button style=\"padding: 0 2px;\">show data</button></pre><img src=\"data:image/png;base64,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\" class=\"ndarray_image_preview\" /><pre class=\"ndarray_raw_data\">array([[[ 76, 112,  71],\n",
              "        [ 76, 112,  71],\n",
              "        [ 76, 112,  71],\n",
              "        ...,\n",
              "        [ 76, 112,  71],\n",
              "        [ 76, 112,  71],\n",
              "        [ 76, 112,  71]],\n",
              "\n",
              "       [[ 76, 112,  71],\n",
              "        [ 76, 112,  71],\n",
              "        [ 76, 112,  71],\n",
              "        ...,\n",
              "        [ 76, 112,  71],\n",
              "        [ 76, 112,  71],\n",
              "        [ 76, 112,  71]],\n",
              "\n",
              "       [[ 76, 112,  71],\n",
              "        [ 76, 112,  71],\n",
              "        [ 76, 112,  71],\n",
              "        ...,\n",
              "        [ 76, 112,  71],\n",
              "        [ 76, 112,  71],\n",
              "        [ 76, 112,  71]],\n",
              "\n",
              "       ...,\n",
              "\n",
              "       [[ 76, 112,  71],\n",
              "        [ 76, 112,  71],\n",
              "        [ 76, 112,  71],\n",
              "        ...,\n",
              "        [ 76, 112,  71],\n",
              "        [ 76, 112,  71],\n",
              "        [ 76, 112,  71]],\n",
              "\n",
              "       [[ 76, 112,  71],\n",
              "        [ 76, 112,  71],\n",
              "        [ 76, 112,  71],\n",
              "        ...,\n",
              "        [ 76, 112,  71],\n",
              "        [ 76, 112,  71],\n",
              "        [ 76, 112,  71]],\n",
              "\n",
              "       [[ 76, 112,  71],\n",
              "        [ 76, 112,  71],\n",
              "        [ 76, 112,  71],\n",
              "        ...,\n",
              "        [ 76, 112,  71],\n",
              "        [ 76, 112,  71],\n",
              "        [ 76, 112,  71]]], dtype=uint8)</pre></div><script>\n",
              "      (() => {\n",
              "      const titles = ['show data', 'hide data'];\n",
              "      let index = 0\n",
              "      document.querySelector('#id-823a4b03-4143-41c0-a7aa-fbf956ab914d button').onclick = (e) => {\n",
              "        document.querySelector('#id-823a4b03-4143-41c0-a7aa-fbf956ab914d').classList.toggle('show_array');\n",
              "        index = (++index) % 2;\n",
              "        document.querySelector('#id-823a4b03-4143-41c0-a7aa-fbf956ab914d button').textContent = titles[index];\n",
              "        e.preventDefault();\n",
              "        e.stopPropagation();\n",
              "      }\n",
              "      })();\n",
              "    </script>"
            ]
          },
          "metadata": {},
          "execution_count": 45
        }
      ]
    },
    {
      "cell_type": "code",
      "source": [
        "qrcode1_img = cv2.imread('/content/qrcode.png')\n",
        "cv2_imshow(qrcode1_img)"
      ],
      "metadata": {
        "colab": {
          "base_uri": "https://localhost:8080/",
          "height": 165
        },
        "id": "sSBrlon4Qd9g",
        "outputId": "02cd365d-07bd-42c4-c388-86bbe12b7d8f"
      },
      "execution_count": 46,
      "outputs": [
        {
          "output_type": "display_data",
          "data": {
            "text/plain": [
              "<PIL.Image.Image image mode=RGB size=212x148>"
            ],
            "image/png": "[encoded data removed]"
          },
          "metadata": {}
        }
      ]
    },
    {
      "cell_type": "code",
      "source": [
        "dtector1=cv.QRCodeDetector()"
      ],
      "metadata": {
        "id": "2_pv-WFIWJti"
      },
      "execution_count": 48,
      "outputs": []
    },
    {
      "cell_type": "code",
      "source": [
        "value1,box1,_=detector.detectAndDecode(qrcode1_img)\n"
      ],
      "metadata": {
        "id": "TRBJp_1OX-IW"
      },
      "execution_count": 49,
      "outputs": []
    },
    {
      "cell_type": "code",
      "source": [
        "print(value1)"
      ],
      "metadata": {
        "colab": {
          "base_uri": "https://localhost:8080/"
        },
        "id": "q562g2NAYNS5",
        "outputId": "dcd2bdfd-704e-4eb8-d265-8796e8f821f6"
      },
      "execution_count": 50,
      "outputs": [
        {
          "output_type": "stream",
          "name": "stdout",
          "text": [
            "اولین آزمایش موفقیت آمیز بود\n",
            "گروه متمم\n"
          ]
        }
      ]
    },
    {
      "cell_type": "code",
      "source": [
        "print(box1)"
      ],
      "metadata": {
        "colab": {
          "base_uri": "https://localhost:8080/"
        },
        "id": "hv66IgXDYPG8",
        "outputId": "d590a5ca-8a70-4dba-e1a0-d6beeda8dc86"
      },
      "execution_count": 56,
      "outputs": [
        {
          "output_type": "stream",
          "name": "stdout",
          "text": [
            "[[[ 48.       17.     ]\n",
            "  [162.9633   17.     ]\n",
            "  [167.18349 132.     ]\n",
            "  [ 48.      132.     ]]]\n"
          ]
        }
      ]
    },
    {
      "cell_type": "code",
      "source": [
        "box1=np.int0(box1)"
      ],
      "metadata": {
        "colab": {
          "base_uri": "https://localhost:8080/"
        },
        "id": "NADiviK6YSwk",
        "outputId": "e39c104b-5298-4026-a224-4d1445411d21"
      },
      "execution_count": 57,
      "outputs": [
        {
          "output_type": "stream",
          "name": "stderr",
          "text": [
            "<ipython-input-57-9a9f4118eec6>:1: DeprecationWarning: `np.int0` is a deprecated alias for `np.intp`.  (Deprecated NumPy 1.24)\n",
            "  box1=np.int0(box1)\n"
          ]
        }
      ]
    },
    {
      "cell_type": "code",
      "source": [
        "cv.rectangle(qrcode1_img,tuple(box1[0][0]),tuple(box1[0][2]),(255,255,0),2)"
      ],
      "metadata": {
        "colab": {
          "base_uri": "https://localhost:8080/",
          "height": 189
        },
        "id": "wOXkiCyZYZBP",
        "outputId": "f53ded04-ae22-4062-c733-6fdafef15609"
      },
      "execution_count": 59,
      "outputs": [
        {
          "output_type": "execute_result",
          "data": {
            "text/plain": [
              "array([[[255, 255, 255],\n",
              "        [255, 255, 255],\n",
              "        [255, 255, 255],\n",
              "        ...,\n",
              "        [255, 255, 255],\n",
              "        [255, 255, 255],\n",
              "        [255, 255, 255]],\n",
              "\n",
              "       [[255, 255, 255],\n",
              "        [255, 255, 255],\n",
              "        [255, 255, 255],\n",
              "        ...,\n",
              "        [255, 255, 255],\n",
              "        [255, 255, 255],\n",
              "        [255, 255, 255]],\n",
              "\n",
              "       [[255, 255, 255],\n",
              "        [255, 255, 255],\n",
              "        [255, 255, 255],\n",
              "        ...,\n",
              "        [255, 255, 255],\n",
              "        [255, 255, 255],\n",
              "        [255, 255, 255]],\n",
              "\n",
              "       ...,\n",
              "\n",
              "       [[255, 255, 255],\n",
              "        [255, 255, 255],\n",
              "        [255, 255, 255],\n",
              "        ...,\n",
              "        [255, 255, 255],\n",
              "        [255, 255, 255],\n",
              "        [255, 255, 255]],\n",
              "\n",
              "       [[255, 255, 255],\n",
              "        [255, 255, 255],\n",
              "        [255, 255, 255],\n",
              "        ...,\n",
              "        [255, 255, 255],\n",
              "        [255, 255, 255],\n",
              "        [255, 255, 255]],\n",
              "\n",
              "       [[255, 255, 255],\n",
              "        [255, 255, 255],\n",
              "        [255, 255, 255],\n",
              "        ...,\n",
              "        [255, 255, 255],\n",
              "        [255, 255, 255],\n",
              "        [255, 255, 255]]], dtype=uint8)"
            ],
            "text/html": [
              "<style>\n",
              "      .ndarray_repr .ndarray_raw_data {\n",
              "        display: none;\n",
              "      }\n",
              "      .ndarray_repr.show_array .ndarray_raw_data {\n",
              "        display: block;\n",
              "      }\n",
              "      .ndarray_repr.show_array .ndarray_image_preview {\n",
              "        display: none;\n",
              "      }\n",
              "      </style>\n",
              "      <div id=\"id-27072838-fdbc-472e-b7fa-27f2f8a410db\" class=\"ndarray_repr\"><pre>ndarray (148, 212, 3) <button style=\"padding: 0 2px;\">show data</button></pre><img src=\"data:image/png;base64,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\" class=\"ndarray_image_preview\" /><pre class=\"ndarray_raw_data\">array([[[255, 255, 255],\n",
              "        [255, 255, 255],\n",
              "        [255, 255, 255],\n",
              "        ...,\n",
              "        [255, 255, 255],\n",
              "        [255, 255, 255],\n",
              "        [255, 255, 255]],\n",
              "\n",
              "       [[255, 255, 255],\n",
              "        [255, 255, 255],\n",
              "        [255, 255, 255],\n",
              "        ...,\n",
              "        [255, 255, 255],\n",
              "        [255, 255, 255],\n",
              "        [255, 255, 255]],\n",
              "\n",
              "       [[255, 255, 255],\n",
              "        [255, 255, 255],\n",
              "        [255, 255, 255],\n",
              "        ...,\n",
              "        [255, 255, 255],\n",
              "        [255, 255, 255],\n",
              "        [255, 255, 255]],\n",
              "\n",
              "       ...,\n",
              "\n",
              "       [[255, 255, 255],\n",
              "        [255, 255, 255],\n",
              "        [255, 255, 255],\n",
              "        ...,\n",
              "        [255, 255, 255],\n",
              "        [255, 255, 255],\n",
              "        [255, 255, 255]],\n",
              "\n",
              "       [[255, 255, 255],\n",
              "        [255, 255, 255],\n",
              "        [255, 255, 255],\n",
              "        ...,\n",
              "        [255, 255, 255],\n",
              "        [255, 255, 255],\n",
              "        [255, 255, 255]],\n",
              "\n",
              "       [[255, 255, 255],\n",
              "        [255, 255, 255],\n",
              "        [255, 255, 255],\n",
              "        ...,\n",
              "        [255, 255, 255],\n",
              "        [255, 255, 255],\n",
              "        [255, 255, 255]]], dtype=uint8)</pre></div><script>\n",
              "      (() => {\n",
              "      const titles = ['show data', 'hide data'];\n",
              "      let index = 0\n",
              "      document.querySelector('#id-27072838-fdbc-472e-b7fa-27f2f8a410db button').onclick = (e) => {\n",
              "        document.querySelector('#id-27072838-fdbc-472e-b7fa-27f2f8a410db').classList.toggle('show_array');\n",
              "        index = (++index) % 2;\n",
              "        document.querySelector('#id-27072838-fdbc-472e-b7fa-27f2f8a410db button').textContent = titles[index];\n",
              "        e.preventDefault();\n",
              "        e.stopPropagation();\n",
              "      }\n",
              "      })();\n",
              "    </script>"
            ]
          },
          "metadata": {},
          "execution_count": 59
        }
      ]
    },
    {
      "cell_type": "markdown",
      "source": [
        "Generate QRcode"
      ],
      "metadata": {
        "id": "erVF4xcGdnWN"
      }
    },
    {
      "cell_type": "code",
      "source": [
        "!pip install qrcode"
      ],
      "metadata": {
        "colab": {
          "base_uri": "https://localhost:8080/"
        },
        "id": "CTJlWDCOeLTJ",
        "outputId": "632833a3-96db-4ae2-82dd-b70077d987e2"
      },
      "execution_count": 61,
      "outputs": [
        {
          "output_type": "stream",
          "name": "stdout",
          "text": [
            "Collecting qrcode\n",
            "  Downloading qrcode-7.4.2-py3-none-any.whl (46 kB)\n",
            "\u001b[?25l     \u001b[90m━━━━━━━━━━━━━━━━━━━━━━━━━━━━━━━━━━━━━━━━\u001b[0m \u001b[32m0.0/46.2 kB\u001b[0m \u001b[31m?\u001b[0m eta \u001b[36m-:--:--\u001b[0m\r\u001b[2K     \u001b[90m━━━━━━━━━━━━━━━━━━━━━━━━━━━━━━━━━━━━━━━━\u001b[0m \u001b[32m46.2/46.2 kB\u001b[0m \u001b[31m1.8 MB/s\u001b[0m eta \u001b[36m0:00:00\u001b[0m\n",
            "\u001b[?25hRequirement already satisfied: typing-extensions in /usr/local/lib/python3.10/dist-packages (from qrcode) (4.10.0)\n",
            "Collecting pypng (from qrcode)\n",
            "  Downloading pypng-0.20220715.0-py3-none-any.whl (58 kB)\n",
            "\u001b[?25l     \u001b[90m━━━━━━━━━━━━━━━━━━━━━━━━━━━━━━━━━━━━━━━━\u001b[0m \u001b[32m0.0/58.1 kB\u001b[0m \u001b[31m?\u001b[0m eta \u001b[36m-:--:--\u001b[0m\r\u001b[2K     \u001b[90m━━━━━━━━━━━━━━━━━━━━━━━━━━━━━━━━━━━━━━━━\u001b[0m \u001b[32m58.1/58.1 kB\u001b[0m \u001b[31m5.0 MB/s\u001b[0m eta \u001b[36m0:00:00\u001b[0m\n",
            "\u001b[?25hInstalling collected packages: pypng, qrcode\n",
            "Successfully installed pypng-0.20220715.0 qrcode-7.4.2\n"
          ]
        }
      ]
    },
    {
      "cell_type": "code",
      "source": [
        "import qrcode"
      ],
      "metadata": {
        "id": "k9Njx-vwYwwH"
      },
      "execution_count": 62,
      "outputs": []
    },
    {
      "cell_type": "code",
      "source": [
        "generated_qrcode=qrcode.make('Image Processing')\n",
        "generated_qrcode.save('/content/myqrcode.png')"
      ],
      "metadata": {
        "id": "E-GkWq_VeJSY"
      },
      "execution_count": 63,
      "outputs": []
    },
    {
      "cell_type": "code",
      "source": [
        "myqrcode_img = cv2.imread('/content/myqrcode.png')\n",
        "cv2_imshow(myqrcode_img)"
      ],
      "metadata": {
        "colab": {
          "base_uri": "https://localhost:8080/",
          "height": 347
        },
        "id": "lovdtIy-ejEe",
        "outputId": "a1a5fc0c-bca4-4d76-f754-e1cfe6bef851"
      },
      "execution_count": 64,
      "outputs": [
        {
          "output_type": "display_data",
          "data": {
            "text/plain": [
              "<PIL.Image.Image image mode=RGB size=330x330>"
            ],
            "image/png": "[encoded data removed]"
          },
          "metadata": {}
        }
      ]
    },
    {
      "cell_type": "code",
      "source": [
        "detector=cv.QRCodeDetector()"
      ],
      "metadata": {
        "id": "ttAJao4NfLdv"
      },
      "execution_count": 65,
      "outputs": []
    },
    {
      "cell_type": "code",
      "source": [
        "val,boxx,_=detector.detectAndDecode(myqrcode_img)"
      ],
      "metadata": {
        "id": "tjKYAyKlfdeG"
      },
      "execution_count": 66,
      "outputs": []
    },
    {
      "cell_type": "code",
      "source": [
        "print(val)"
      ],
      "metadata": {
        "colab": {
          "base_uri": "https://localhost:8080/"
        },
        "id": "q5rvFglDfoID",
        "outputId": "c063d7a4-10a1-4e7c-ad61-34e1e1ddfba7"
      },
      "execution_count": 67,
      "outputs": [
        {
          "output_type": "stream",
          "name": "stdout",
          "text": [
            "Image Processing\n"
          ]
        }
      ]
    },
    {
      "cell_type": "code",
      "source": [
        "print(boxx)"
      ],
      "metadata": {
        "colab": {
          "base_uri": "https://localhost:8080/"
        },
        "id": "LShCYE48fn1T",
        "outputId": "b0e73459-a3e6-4528-ea1c-8ea9fd3e5aa4"
      },
      "execution_count": 68,
      "outputs": [
        {
          "output_type": "stream",
          "name": "stdout",
          "text": [
            "[[[ 40.       40.     ]\n",
            "  [288.99997  40.     ]\n",
            "  [288.99997 288.99997]\n",
            "  [ 40.      288.99997]]]\n"
          ]
        }
      ]
    },
    {
      "cell_type": "code",
      "source": [
        "boxx=np.int0(boxx)"
      ],
      "metadata": {
        "colab": {
          "base_uri": "https://localhost:8080/"
        },
        "id": "YstlYfU_fulo",
        "outputId": "1ef99a37-d588-45c5-f1e9-cac84ae1de83"
      },
      "execution_count": 69,
      "outputs": [
        {
          "output_type": "stream",
          "name": "stderr",
          "text": [
            "<ipython-input-69-a5d832b8ca99>:1: DeprecationWarning: `np.int0` is a deprecated alias for `np.intp`.  (Deprecated NumPy 1.24)\n",
            "  boxx=np.int0(boxx)\n"
          ]
        }
      ]
    },
    {
      "cell_type": "code",
      "source": [
        "cv.rectangle(myqrcode_img,tuple(boxx[0][0]),tuple(boxx[0][2]),(255,255,0),2)"
      ],
      "metadata": {
        "colab": {
          "base_uri": "https://localhost:8080/",
          "height": 371
        },
        "id": "TKFB_KgmfP7i",
        "outputId": "8f80b99c-292a-46e1-ff55-35b272a68e6b"
      },
      "execution_count": 70,
      "outputs": [
        {
          "output_type": "execute_result",
          "data": {
            "text/plain": [
              "array([[[255, 255, 255],\n",
              "        [255, 255, 255],\n",
              "        [255, 255, 255],\n",
              "        ...,\n",
              "        [255, 255, 255],\n",
              "        [255, 255, 255],\n",
              "        [255, 255, 255]],\n",
              "\n",
              "       [[255, 255, 255],\n",
              "        [255, 255, 255],\n",
              "        [255, 255, 255],\n",
              "        ...,\n",
              "        [255, 255, 255],\n",
              "        [255, 255, 255],\n",
              "        [255, 255, 255]],\n",
              "\n",
              "       [[255, 255, 255],\n",
              "        [255, 255, 255],\n",
              "        [255, 255, 255],\n",
              "        ...,\n",
              "        [255, 255, 255],\n",
              "        [255, 255, 255],\n",
              "        [255, 255, 255]],\n",
              "\n",
              "       ...,\n",
              "\n",
              "       [[255, 255, 255],\n",
              "        [255, 255, 255],\n",
              "        [255, 255, 255],\n",
              "        ...,\n",
              "        [255, 255, 255],\n",
              "        [255, 255, 255],\n",
              "        [255, 255, 255]],\n",
              "\n",
              "       [[255, 255, 255],\n",
              "        [255, 255, 255],\n",
              "        [255, 255, 255],\n",
              "        ...,\n",
              "        [255, 255, 255],\n",
              "        [255, 255, 255],\n",
              "        [255, 255, 255]],\n",
              "\n",
              "       [[255, 255, 255],\n",
              "        [255, 255, 255],\n",
              "        [255, 255, 255],\n",
              "        ...,\n",
              "        [255, 255, 255],\n",
              "        [255, 255, 255],\n",
              "        [255, 255, 255]]], dtype=uint8)"
            ],
            "text/html": [
              "<style>\n",
              "      .ndarray_repr .ndarray_raw_data {\n",
              "        display: none;\n",
              "      }\n",
              "      .ndarray_repr.show_array .ndarray_raw_data {\n",
              "        display: block;\n",
              "      }\n",
              "      .ndarray_repr.show_array .ndarray_image_preview {\n",
              "        display: none;\n",
              "      }\n",
              "      </style>\n",
              "      <div id=\"id-6508e9b4-3fd9-49a9-8276-91a4b8c0a50e\" class=\"ndarray_repr\"><pre>ndarray (330, 330, 3) <button style=\"padding: 0 2px;\">show data</button></pre><img src=\"data:image/png;base64,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\" class=\"ndarray_image_preview\" /><pre class=\"ndarray_raw_data\">array([[[255, 255, 255],\n",
              "        [255, 255, 255],\n",
              "        [255, 255, 255],\n",
              "        ...,\n",
              "        [255, 255, 255],\n",
              "        [255, 255, 255],\n",
              "        [255, 255, 255]],\n",
              "\n",
              "       [[255, 255, 255],\n",
              "        [255, 255, 255],\n",
              "        [255, 255, 255],\n",
              "        ...,\n",
              "        [255, 255, 255],\n",
              "        [255, 255, 255],\n",
              "        [255, 255, 255]],\n",
              "\n",
              "       [[255, 255, 255],\n",
              "        [255, 255, 255],\n",
              "        [255, 255, 255],\n",
              "        ...,\n",
              "        [255, 255, 255],\n",
              "        [255, 255, 255],\n",
              "        [255, 255, 255]],\n",
              "\n",
              "       ...,\n",
              "\n",
              "       [[255, 255, 255],\n",
              "        [255, 255, 255],\n",
              "        [255, 255, 255],\n",
              "        ...,\n",
              "        [255, 255, 255],\n",
              "        [255, 255, 255],\n",
              "        [255, 255, 255]],\n",
              "\n",
              "       [[255, 255, 255],\n",
              "        [255, 255, 255],\n",
              "        [255, 255, 255],\n",
              "        ...,\n",
              "        [255, 255, 255],\n",
              "        [255, 255, 255],\n",
              "        [255, 255, 255]],\n",
              "\n",
              "       [[255, 255, 255],\n",
              "        [255, 255, 255],\n",
              "        [255, 255, 255],\n",
              "        ...,\n",
              "        [255, 255, 255],\n",
              "        [255, 255, 255],\n",
              "        [255, 255, 255]]], dtype=uint8)</pre></div><script>\n",
              "      (() => {\n",
              "      const titles = ['show data', 'hide data'];\n",
              "      let index = 0\n",
              "      document.querySelector('#id-6508e9b4-3fd9-49a9-8276-91a4b8c0a50e button').onclick = (e) => {\n",
              "        document.querySelector('#id-6508e9b4-3fd9-49a9-8276-91a4b8c0a50e').classList.toggle('show_array');\n",
              "        index = (++index) % 2;\n",
              "        document.querySelector('#id-6508e9b4-3fd9-49a9-8276-91a4b8c0a50e button').textContent = titles[index];\n",
              "        e.preventDefault();\n",
              "        e.stopPropagation();\n",
              "      }\n",
              "      })();\n",
              "    </script>"
            ]
          },
          "metadata": {},
          "execution_count": 70
        }
      ]
    },
    {
      "cell_type": "code",
      "source": [],
      "metadata": {
        "id": "JL0RXz_dhMlZ"
      },
      "execution_count": 78,
      "outputs": []
    },
    {
      "cell_type": "code",
      "source": [],
      "metadata": {
        "id": "6KBDJscAf8af"
      },
      "execution_count": 78,
      "outputs": []
    },
    {
      "cell_type": "code",
      "source": [],
      "metadata": {
        "id": "KnyyEpQNhS1Z"
      },
      "execution_count": null,
      "outputs": []
    }
  ]
}